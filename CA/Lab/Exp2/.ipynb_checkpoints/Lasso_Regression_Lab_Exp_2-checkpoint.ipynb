{
 "cells": [
  {
   "cell_type": "code",
   "execution_count": 4,
   "metadata": {},
   "outputs": [
    {
     "data": {
      "text/plain": [
       "-5.587450677336733"
      ]
     },
     "execution_count": 4,
     "metadata": {},
     "output_type": "execute_result"
    }
   ],
   "source": [
    "import numpy as np\n",
    "\n",
    "import pandas as pd\n",
    "\n",
    "from sklearn.linear_model import Ridge, Lasso\n",
    "\n",
    "from sklearn.metrics import mean_squared_error,r2_score\n",
    "\n",
    "from sklearn.model_selection import train_test_split, cross_val_score\n",
    "\n",
    "from sklearn import model_selection\n",
    "\n",
    "import matplotlib.pyplot as plt\n",
    "\n",
    "from sklearn.linear_model import RidgeCV, LassoCV\n",
    "\n",
    "Lasso(normalize=True, tol=1e-2)\n",
    "\n",
    "import warnings\n",
    "\n",
    "warnings.filterwarnings('ignore')\n",
    "\n",
    "df = pd.read_csv(\"Hitters.csv\")\n",
    "\n",
    "df = df.dropna()\n",
    "\n",
    "dms = pd.get_dummies(df[['League', 'Division', 'NewLeague']])\n",
    "\n",
    "y = df[\"Salary\"]\n",
    "\n",
    "X_ = df.drop(['Salary', 'League', 'Division', 'NewLeague'], axis=1).astype('float64')\n",
    "\n",
    "X = pd.concat([X_, dms[['League_N', 'Division_W', 'NewLeague_N']]], axis=1)\n",
    "\n",
    "X_train, X_test, y_train, y_test = train_test_split(X, \n",
    "\n",
    "                          y, \n",
    "\n",
    "                          test_size=0.25, \n",
    "\n",
    "                          random_state=42)\n",
    "\n",
    "lasso_model = Lasso().fit(X_train,y_train)\n",
    "lasso_model.intercept_"
   ]
  },
  {
   "cell_type": "code",
   "execution_count": 5,
   "metadata": {},
   "outputs": [
    {
     "data": {
      "image/png": "[encoded data removed]",
      "text/plain": [
       "<Figure size 432x288 with 1 Axes>"
      ]
     },
     "metadata": {
      "needs_background": "light"
     },
     "output_type": "display_data"
    }
   ],
   "source": [
    "# lasso_model.coef_\n",
    "\n",
    "# Coefficients for different lambda values.\n",
    "lasso = Lasso()\n",
    "\n",
    "coefs = []\n",
    "\n",
    "alphas = np.random.randint(0,1000,100)\n",
    "\n",
    "# 10**np.linspace(10,-2,100)*0.5 -- It can be used instead of alphas and observed.\n",
    "\n",
    "for a in alphas:\n",
    "\n",
    "  lasso.set_params(alpha = a)\n",
    "\n",
    "  lasso.fit(X_train,y_train)\n",
    "\n",
    "  coefs.append(lasso.coef_)\n",
    "\n",
    "  ax = plt.gca()\n",
    "\n",
    "ax.plot(alphas, coefs)\n",
    "\n",
    "ax.set_xscale(\"log\")\n"
   ]
  },
  {
   "cell_type": "code",
   "execution_count": 7,
   "metadata": {},
   "outputs": [
    {
     "data": {
      "text/plain": [
       "AtBat         -1.117036\n",
       "Hits           5.507300\n",
       "HmRun          0.000000\n",
       "Runs           0.000000\n",
       "RBI            0.000000\n",
       "Walks          2.765410\n",
       "Years          0.000000\n",
       "CAtBat        -0.170747\n",
       "CHits          0.232325\n",
       "CHmRun        -0.000000\n",
       "CRuns          1.058233\n",
       "CRBI           0.472083\n",
       "CWalks        -0.208045\n",
       "PutOuts        0.272908\n",
       "Assists        0.176086\n",
       "Errors        -0.000000\n",
       "League_N       0.000000\n",
       "Division_W    -0.000000\n",
       "NewLeague_N    0.000000\n",
       "dtype: float64"
      ]
     },
     "execution_count": 7,
     "metadata": {},
     "output_type": "execute_result"
    }
   ],
   "source": [
    "lasso_model.predict(X_train)[:5]\n",
    "\n",
    "lasso_model.predict(X_test)[:5]\n",
    "\n",
    "y_pred = lasso_model.predict(X_test)\n",
    "\n",
    "np.sqrt(mean_squared_error(y_test,y_pred))\n",
    "\n",
    "lasso_cv_model = LassoCV(alphas = np.random.randint(0,1000,100), cv = 10, max_iter = 1000000).fit(X_train,y_train)\n",
    "\n",
    "lasso_cv_model.alpha_\n",
    "\n",
    "lasso_tuned = Lasso().set_params(alpha = lasso_cv_model.alpha_).fit(X_train,y_train)\n",
    "\n",
    "# We know that the coefficients not used in Lasso Regression are set to zero. So let's observe.\n",
    "\n",
    "pd.Series(lasso_tuned.coef_, index = X_train.columns)"
   ]
  },
  {
   "cell_type": "code",
   "execution_count": null,
   "metadata": {},
   "outputs": [],
   "source": []
  }
 ],
 "metadata": {
  "kernelspec": {
   "display_name": "Python 3",
   "language": "python",
   "name": "python3"
  },
  "language_info": {
   "codemirror_mode": {
    "name": "ipython",
    "version": 3
   },
   "file_extension": ".py",
   "mimetype": "text/x-python",
   "name": "python",
   "nbconvert_exporter": "python",
   "pygments_lexer": "ipython3",
   "version": "3.7.3"
  }
 },
 "nbformat": 4,
 "nbformat_minor": 2
}
