{
 "cells": [
  {
   "cell_type": "markdown",
   "metadata": {
    "_cell_guid": "b1076dfc-b9ad-4769-8c92-a6c4dae69d19",
    "_uuid": "8f2839f25d086af736a60e9eeb907d3b93b6e0e5",
    "execution": {
     "iopub.execute_input": "2022-04-04T14:34:17.175387Z",
     "iopub.status.busy": "2022-04-04T14:34:17.174655Z",
     "iopub.status.idle": "2022-04-04T14:34:17.214815Z",
     "shell.execute_reply": "2022-04-04T14:34:17.213973Z",
     "shell.execute_reply.started": "2022-04-04T14:34:17.175281Z"
    }
   },
   "source": [
    "# Rohan Nyati\n",
    "# 500075940\n",
    "# R177219148\n",
    "# Batch 5 (Ai & Ml)"
   ]
  },
  {
   "cell_type": "markdown",
   "metadata": {},
   "source": [
    "## **Assignment 2**"
   ]
  },
  {
   "cell_type": "markdown",
   "metadata": {},
   "source": [
    "# 1. Extracting data and cleaning:"
   ]
  },
  {
   "cell_type": "code",
   "execution_count": 2,
   "metadata": {
    "execution": {
     "iopub.execute_input": "2022-04-04T15:02:44.374325Z",
     "iopub.status.busy": "2022-04-04T15:02:44.374050Z",
     "iopub.status.idle": "2022-04-04T15:02:44.409289Z",
     "shell.execute_reply": "2022-04-04T15:02:44.408270Z",
     "shell.execute_reply.started": "2022-04-04T15:02:44.374294Z"
    }
   },
   "outputs": [
    {
     "name": "stdout",
     "output_type": "stream",
     "text": [
      "<class 'pandas.core.frame.DataFrame'>\n",
      "RangeIndex: 8950 entries, 0 to 8949\n",
      "Data columns (total 18 columns):\n",
      "CUST_ID                             8950 non-null object\n",
      "BALANCE                             8950 non-null float64\n",
      "BALANCE_FREQUENCY                   8950 non-null float64\n",
      "PURCHASES                           8950 non-null float64\n",
      "ONEOFF_PURCHASES                    8950 non-null float64\n",
      "INSTALLMENTS_PURCHASES              8950 non-null float64\n",
      "CASH_ADVANCE                        8950 non-null float64\n",
      "PURCHASES_FREQUENCY                 8950 non-null float64\n",
      "ONEOFF_PURCHASES_FREQUENCY          8950 non-null float64\n",
      "PURCHASES_INSTALLMENTS_FREQUENCY    8950 non-null float64\n",
      "CASH_ADVANCE_FREQUENCY              8950 non-null float64\n",
      "CASH_ADVANCE_TRX                    8950 non-null int64\n",
      "PURCHASES_TRX                       8950 non-null int64\n",
      "CREDIT_LIMIT                        8949 non-null float64\n",
      "PAYMENTS                            8950 non-null float64\n",
      "MINIMUM_PAYMENTS                    8637 non-null float64\n",
      "PRC_FULL_PAYMENT                    8950 non-null float64\n",
      "TENURE                              8950 non-null int64\n",
      "dtypes: float64(14), int64(3), object(1)\n",
      "memory usage: 1.2+ MB\n"
     ]
    }
   ],
   "source": [
    "import numpy as np \n",
    "import pandas as pd \n",
    "df = pd.read_csv(\"CC GENERAL.csv\")\n",
    "df.info()"
   ]
  },
  {
   "cell_type": "code",
   "execution_count": 3,
   "metadata": {
    "execution": {
     "iopub.execute_input": "2022-04-04T15:02:44.411099Z",
     "iopub.status.busy": "2022-04-04T15:02:44.410872Z",
     "iopub.status.idle": "2022-04-04T15:02:44.421263Z",
     "shell.execute_reply": "2022-04-04T15:02:44.420282Z",
     "shell.execute_reply.started": "2022-04-04T15:02:44.411070Z"
    }
   },
   "outputs": [
    {
     "data": {
      "text/plain": [
       "CUST_ID                               0\n",
       "BALANCE                               0\n",
       "BALANCE_FREQUENCY                     0\n",
       "PURCHASES                             0\n",
       "ONEOFF_PURCHASES                      0\n",
       "INSTALLMENTS_PURCHASES                0\n",
       "CASH_ADVANCE                          0\n",
       "PURCHASES_FREQUENCY                   0\n",
       "ONEOFF_PURCHASES_FREQUENCY            0\n",
       "PURCHASES_INSTALLMENTS_FREQUENCY      0\n",
       "CASH_ADVANCE_FREQUENCY                0\n",
       "CASH_ADVANCE_TRX                      0\n",
       "PURCHASES_TRX                         0\n",
       "CREDIT_LIMIT                          1\n",
       "PAYMENTS                              0\n",
       "MINIMUM_PAYMENTS                    313\n",
       "PRC_FULL_PAYMENT                      0\n",
       "TENURE                                0\n",
       "dtype: int64"
      ]
     },
     "execution_count": 3,
     "metadata": {},
     "output_type": "execute_result"
    }
   ],
   "source": [
    "df.isnull().sum()"
   ]
  },
  {
   "cell_type": "code",
   "execution_count": 63,
   "metadata": {
    "execution": {
     "iopub.execute_input": "2022-04-04T15:02:44.448246Z",
     "iopub.status.busy": "2022-04-04T15:02:44.447619Z",
     "iopub.status.idle": "2022-04-04T15:02:44.506769Z",
     "shell.execute_reply": "2022-04-04T15:02:44.506108Z",
     "shell.execute_reply.started": "2022-04-04T15:02:44.448170Z"
    }
   },
   "outputs": [],
   "source": [
    "df.describe()"
   ]
  },
  {
   "cell_type": "code",
   "execution_count": 64,
   "metadata": {
    "execution": {
     "iopub.execute_input": "2022-04-04T15:02:44.508270Z",
     "iopub.status.busy": "2022-04-04T15:02:44.507837Z",
     "iopub.status.idle": "2022-04-04T15:02:44.531106Z",
     "shell.execute_reply": "2022-04-04T15:02:44.529998Z",
     "shell.execute_reply.started": "2022-04-04T15:02:44.508236Z"
    }
   },
   "outputs": [],
   "source": [
    "df.head(10)"
   ]
  },
  {
   "cell_type": "code",
   "execution_count": 65,
   "metadata": {
    "execution": {
     "iopub.execute_input": "2022-04-04T15:02:44.532950Z",
     "iopub.status.busy": "2022-04-04T15:02:44.532509Z",
     "iopub.status.idle": "2022-04-04T15:02:44.566133Z",
     "shell.execute_reply": "2022-04-04T15:02:44.565248Z",
     "shell.execute_reply.started": "2022-04-04T15:02:44.532915Z"
    }
   },
   "outputs": [],
   "source": [
    "df = df.drop(['CUST_ID'],axis = 1)\n",
    "df.head(10)"
   ]
  },
  {
   "cell_type": "markdown",
   "metadata": {},
   "source": [
    "# 2. Data Visualization :"
   ]
  },
  {
   "cell_type": "code",
   "execution_count": 66,
   "metadata": {
    "execution": {
     "iopub.execute_input": "2022-04-04T15:02:44.567969Z",
     "iopub.status.busy": "2022-04-04T15:02:44.567365Z",
     "iopub.status.idle": "2022-04-04T15:02:44.571366Z",
     "shell.execute_reply": "2022-04-04T15:02:44.570590Z",
     "shell.execute_reply.started": "2022-04-04T15:02:44.567932Z"
    }
   },
   "outputs": [],
   "source": [
    "import matplotlib.pyplot as plt\n",
    "import seaborn as sns"
   ]
  },
  {
   "cell_type": "markdown",
   "metadata": {},
   "source": [
    "# 2.1 Univariate Analysis :"
   ]
  },
  {
   "cell_type": "markdown",
   "metadata": {},
   "source": [
    "Let's first identify the **distribution** of each column :"
   ]
  },
  {
   "cell_type": "code",
   "execution_count": 67,
   "metadata": {
    "execution": {
     "iopub.execute_input": "2022-04-04T15:02:44.588998Z",
     "iopub.status.busy": "2022-04-04T15:02:44.588727Z",
     "iopub.status.idle": "2022-04-04T15:02:50.288767Z",
     "shell.execute_reply": "2022-04-04T15:02:50.287858Z",
     "shell.execute_reply.started": "2022-04-04T15:02:44.588965Z"
    }
   },
   "outputs": [],
   "source": [
    "sns.set_style(\"darkgrid\")\n",
    "fig = plt.figure(figsize = (20,30))\n",
    "\n",
    "plot_feat = df.columns\n",
    "\n",
    "for i, v in enumerate(plot_feat):\n",
    "    axes = fig.add_subplot(7, 3, i+1)\n",
    "    sns.distplot(df[v], kde = False, ax = axes)"
   ]
  },
  {
   "cell_type": "code",
   "execution_count": 68,
   "metadata": {
    "execution": {
     "iopub.execute_input": "2022-04-04T15:02:50.290452Z",
     "iopub.status.busy": "2022-04-04T15:02:50.290207Z",
     "iopub.status.idle": "2022-04-04T15:02:53.799581Z",
     "shell.execute_reply": "2022-04-04T15:02:53.798878Z",
     "shell.execute_reply.started": "2022-04-04T15:02:50.290423Z"
    }
   },
   "outputs": [],
   "source": [
    "fig = plt.figure(figsize = (20,30))\n",
    "\n",
    "for i, v in enumerate(plot_feat):\n",
    "    axes = fig.add_subplot(7, 3, i+1)\n",
    "    sns.boxplot(x = df[v], ax = axes)"
   ]
  },
  {
   "cell_type": "markdown",
   "metadata": {},
   "source": [
    "**Imputing null values :**"
   ]
  },
  {
   "cell_type": "code",
   "execution_count": 69,
   "metadata": {
    "execution": {
     "iopub.execute_input": "2022-04-04T15:02:53.801307Z",
     "iopub.status.busy": "2022-04-04T15:02:53.800603Z",
     "iopub.status.idle": "2022-04-04T15:02:53.809598Z",
     "shell.execute_reply": "2022-04-04T15:02:53.808792Z",
     "shell.execute_reply.started": "2022-04-04T15:02:53.801266Z"
    }
   },
   "outputs": [],
   "source": [
    "from sklearn.impute import SimpleImputer\n",
    "imputer = SimpleImputer(missing_values=np.nan, strategy='median')\n",
    "\n",
    "X = df['MINIMUM_PAYMENTS'].values.reshape(-1,1)\n",
    "X = imputer.fit_transform(X) \n",
    "\n",
    "df['MINIMUM_PAYMENTS_NEW'] = X"
   ]
  },
  {
   "cell_type": "code",
   "execution_count": 70,
   "metadata": {
    "execution": {
     "iopub.execute_input": "2022-04-04T15:02:53.811925Z",
     "iopub.status.busy": "2022-04-04T15:02:53.811669Z",
     "iopub.status.idle": "2022-04-04T15:02:53.823806Z",
     "shell.execute_reply": "2022-04-04T15:02:53.822949Z",
     "shell.execute_reply.started": "2022-04-04T15:02:53.811896Z"
    }
   },
   "outputs": [],
   "source": [
    "X2 = df['CREDIT_LIMIT'].values.reshape(-1,1)\n",
    "X2 = imputer.fit_transform(X2) \n",
    "\n",
    "df['CREDIT_LIMIT_NEW'] = X2"
   ]
  },
  {
   "cell_type": "code",
   "execution_count": 71,
   "metadata": {
    "execution": {
     "iopub.execute_input": "2022-04-04T15:02:53.825751Z",
     "iopub.status.busy": "2022-04-04T15:02:53.825028Z",
     "iopub.status.idle": "2022-04-04T15:02:53.846010Z",
     "shell.execute_reply": "2022-04-04T15:02:53.845089Z",
     "shell.execute_reply.started": "2022-04-04T15:02:53.825713Z"
    }
   },
   "outputs": [],
   "source": [
    "df = df.drop(['CREDIT_LIMIT','MINIMUM_PAYMENTS'],axis = 1)\n",
    "df.info()"
   ]
  },
  {
   "cell_type": "code",
   "execution_count": 72,
   "metadata": {
    "execution": {
     "iopub.execute_input": "2022-04-04T15:02:53.848256Z",
     "iopub.status.busy": "2022-04-04T15:02:53.847562Z",
     "iopub.status.idle": "2022-04-04T15:02:53.857422Z",
     "shell.execute_reply": "2022-04-04T15:02:53.856377Z",
     "shell.execute_reply.started": "2022-04-04T15:02:53.848123Z"
    }
   },
   "outputs": [],
   "source": [
    "df.isnull().sum().sum()"
   ]
  },
  {
   "cell_type": "markdown",
   "metadata": {},
   "source": [
    "# 2.2 Bivariate Analysis"
   ]
  },
  {
   "cell_type": "code",
   "execution_count": 73,
   "metadata": {
    "execution": {
     "iopub.execute_input": "2022-04-04T15:02:53.859330Z",
     "iopub.status.busy": "2022-04-04T15:02:53.858608Z",
     "iopub.status.idle": "2022-04-04T15:04:03.605874Z",
     "shell.execute_reply": "2022-04-04T15:04:03.603451Z",
     "shell.execute_reply.started": "2022-04-04T15:02:53.859295Z"
    }
   },
   "outputs": [],
   "source": [
    "sns.pairplot(df)\n",
    "plt.show()"
   ]
  },
  {
   "cell_type": "code",
   "execution_count": 74,
   "metadata": {
    "execution": {
     "iopub.execute_input": "2022-04-04T15:04:03.608111Z",
     "iopub.status.busy": "2022-04-04T15:04:03.607783Z",
     "iopub.status.idle": "2022-04-04T15:04:05.137580Z",
     "shell.execute_reply": "2022-04-04T15:04:05.136737Z",
     "shell.execute_reply.started": "2022-04-04T15:04:03.608069Z"
    }
   },
   "outputs": [],
   "source": [
    "plt.figure(figsize=(20,20))\n",
    "corr_df = df.corr()\n",
    "sns.heatmap(corr_df,annot=True)\n",
    "plt.show()"
   ]
  },
  {
   "cell_type": "markdown",
   "metadata": {},
   "source": [
    "# 3. Model Building :"
   ]
  },
  {
   "cell_type": "code",
   "execution_count": 75,
   "metadata": {
    "execution": {
     "iopub.execute_input": "2022-04-04T15:04:05.139300Z",
     "iopub.status.busy": "2022-04-04T15:04:05.139046Z",
     "iopub.status.idle": "2022-04-04T15:04:05.146986Z",
     "shell.execute_reply": "2022-04-04T15:04:05.145954Z",
     "shell.execute_reply.started": "2022-04-04T15:04:05.139268Z"
    }
   },
   "outputs": [],
   "source": [
    "from sklearn.model_selection import train_test_split\n",
    "train_df, test_df = train_test_split(df,test_size=0.2,random_state=42)"
   ]
  },
  {
   "cell_type": "markdown",
   "metadata": {},
   "source": [
    "# 3.1 Normalizing the values:"
   ]
  },
  {
   "cell_type": "code",
   "execution_count": 76,
   "metadata": {
    "execution": {
     "iopub.execute_input": "2022-04-04T15:04:05.150536Z",
     "iopub.status.busy": "2022-04-04T15:04:05.150289Z",
     "iopub.status.idle": "2022-04-04T15:04:05.166998Z",
     "shell.execute_reply": "2022-04-04T15:04:05.166145Z",
     "shell.execute_reply.started": "2022-04-04T15:04:05.150504Z"
    }
   },
   "outputs": [],
   "source": [
    "from sklearn.preprocessing import MinMaxScaler\n",
    "mm = MinMaxScaler()\n",
    "train_df = mm.fit_transform(train_df)\n",
    "test_df = mm.transform(test_df)"
   ]
  },
  {
   "cell_type": "code",
   "execution_count": 77,
   "metadata": {
    "execution": {
     "iopub.execute_input": "2022-04-04T15:04:05.168981Z",
     "iopub.status.busy": "2022-04-04T15:04:05.168703Z",
     "iopub.status.idle": "2022-04-04T15:04:05.336027Z",
     "shell.execute_reply": "2022-04-04T15:04:05.335376Z",
     "shell.execute_reply.started": "2022-04-04T15:04:05.168949Z"
    }
   },
   "outputs": [],
   "source": [
    "from sklearn.preprocessing import PowerTransformer\n",
    "pt = PowerTransformer()\n",
    "train_df = pt.fit_transform(train_df)\n",
    "test_df = pt.transform(test_df)"
   ]
  },
  {
   "cell_type": "markdown",
   "metadata": {},
   "source": [
    "# 3.2 K-MEANS :"
   ]
  },
  {
   "cell_type": "code",
   "execution_count": 78,
   "metadata": {
    "execution": {
     "iopub.execute_input": "2022-04-04T15:04:05.337328Z",
     "iopub.status.busy": "2022-04-04T15:04:05.337068Z",
     "iopub.status.idle": "2022-04-04T15:04:05.342066Z",
     "shell.execute_reply": "2022-04-04T15:04:05.340882Z",
     "shell.execute_reply.started": "2022-04-04T15:04:05.337296Z"
    }
   },
   "outputs": [],
   "source": [
    "from sklearn.cluster import KMeans"
   ]
  },
  {
   "cell_type": "markdown",
   "metadata": {},
   "source": [
    "Finding optimum number of clusters for grouping:"
   ]
  },
  {
   "cell_type": "code",
   "execution_count": 79,
   "metadata": {
    "execution": {
     "iopub.execute_input": "2022-04-04T15:04:05.343371Z",
     "iopub.status.busy": "2022-04-04T15:04:05.343125Z",
     "iopub.status.idle": "2022-04-04T15:04:42.191179Z",
     "shell.execute_reply": "2022-04-04T15:04:42.190279Z",
     "shell.execute_reply.started": "2022-04-04T15:04:05.343342Z"
    }
   },
   "outputs": [],
   "source": [
    "interclusterdistance = []\n",
    "\n",
    "for clusters in range(1,20):\n",
    "    km = KMeans(n_clusters = clusters,init ='k-means++', max_iter=300,random_state=42)\n",
    "    km.fit(train_df)\n",
    "    interclusterdistance.append(km.inertia_)\n",
    "    \n",
    "#plotting the values\n",
    "plt.figure(figsize=(30,10))\n",
    "plt.plot(range(1, 20), interclusterdistance, marker='o', color='r')\n",
    "plt.xlabel('Number of clusters')\n",
    "plt.ylabel('Inter Cluster Distance')\n",
    "plt.show()"
   ]
  },
  {
   "cell_type": "code",
   "execution_count": 80,
   "metadata": {
    "execution": {
     "iopub.execute_input": "2022-04-04T15:04:42.195006Z",
     "iopub.status.busy": "2022-04-04T15:04:42.194517Z",
     "iopub.status.idle": "2022-04-04T15:04:43.947462Z",
     "shell.execute_reply": "2022-04-04T15:04:43.946683Z",
     "shell.execute_reply.started": "2022-04-04T15:04:42.194962Z"
    }
   },
   "outputs": [],
   "source": [
    "km = KMeans(n_clusters = 6,init ='k-means++', max_iter=300,random_state=42)\n",
    "km.fit(train_df)\n",
    "y_pred = km.predict(train_df)"
   ]
  },
  {
   "cell_type": "code",
   "execution_count": 81,
   "metadata": {
    "execution": {
     "iopub.execute_input": "2022-04-04T15:04:43.949092Z",
     "iopub.status.busy": "2022-04-04T15:04:43.948619Z",
     "iopub.status.idle": "2022-04-04T15:04:43.978358Z",
     "shell.execute_reply": "2022-04-04T15:04:43.977327Z",
     "shell.execute_reply.started": "2022-04-04T15:04:43.949057Z"
    }
   },
   "outputs": [],
   "source": [
    "cluster_df = pd.DataFrame(train_df,columns = df.columns)\n",
    "cluster_df['clusters'] = y_pred\n",
    "cluster_df.head(10)"
   ]
  },
  {
   "cell_type": "code",
   "execution_count": 82,
   "metadata": {
    "execution": {
     "iopub.execute_input": "2022-04-04T15:04:43.980261Z",
     "iopub.status.busy": "2022-04-04T15:04:43.979693Z",
     "iopub.status.idle": "2022-04-04T15:04:43.997370Z",
     "shell.execute_reply": "2022-04-04T15:04:43.996386Z",
     "shell.execute_reply.started": "2022-04-04T15:04:43.980224Z"
    }
   },
   "outputs": [],
   "source": [
    "cluster_df['clusters'].value_counts()"
   ]
  },
  {
   "cell_type": "code",
   "execution_count": 83,
   "metadata": {
    "execution": {
     "iopub.execute_input": "2022-04-04T15:04:43.999688Z",
     "iopub.status.busy": "2022-04-04T15:04:43.999083Z",
     "iopub.status.idle": "2022-04-04T15:04:44.011649Z",
     "shell.execute_reply": "2022-04-04T15:04:44.010643Z",
     "shell.execute_reply.started": "2022-04-04T15:04:43.999642Z"
    }
   },
   "outputs": [],
   "source": [
    "X = cluster_df[['BALANCE','PURCHASES']].to_numpy()"
   ]
  },
  {
   "cell_type": "code",
   "execution_count": 84,
   "metadata": {
    "execution": {
     "iopub.execute_input": "2022-04-04T15:04:44.014124Z",
     "iopub.status.busy": "2022-04-04T15:04:44.013061Z",
     "iopub.status.idle": "2022-04-04T15:05:10.720113Z",
     "shell.execute_reply": "2022-04-04T15:05:10.719282Z",
     "shell.execute_reply.started": "2022-04-04T15:04:44.014025Z"
    }
   },
   "outputs": [],
   "source": [
    "interclusterdistance = []\n",
    "\n",
    "for clusters in range(1,20):\n",
    "    km = KMeans(n_clusters = clusters,init ='k-means++', max_iter=300,random_state=42)\n",
    "    km.fit(X)\n",
    "    interclusterdistance.append(km.inertia_)\n",
    "    \n",
    "#plotting the values\n",
    "plt.figure(figsize=(30,10))\n",
    "plt.plot(range(1, 20), interclusterdistance, marker='o', color='g')\n",
    "plt.xlabel('Number of clusters')\n",
    "plt.ylabel('Inter Cluster Distance')\n",
    "plt.show()"
   ]
  },
  {
   "cell_type": "markdown",
   "metadata": {},
   "source": [
    "Considering only BALANCE variable, we can choose k = 4"
   ]
  },
  {
   "cell_type": "code",
   "execution_count": 85,
   "metadata": {
    "execution": {
     "iopub.execute_input": "2022-04-04T15:05:10.724181Z",
     "iopub.status.busy": "2022-04-04T15:05:10.723923Z",
     "iopub.status.idle": "2022-04-04T15:05:12.072423Z",
     "shell.execute_reply": "2022-04-04T15:05:12.071584Z",
     "shell.execute_reply.started": "2022-04-04T15:05:10.724150Z"
    }
   },
   "outputs": [],
   "source": [
    "km = KMeans(n_clusters = 4,init ='k-means++', max_iter=300,random_state=42)\n",
    "km.fit(X)\n",
    "y_balance_pred = km.predict(X)"
   ]
  },
  {
   "cell_type": "code",
   "execution_count": 86,
   "metadata": {
    "execution": {
     "iopub.execute_input": "2022-04-04T15:05:12.074597Z",
     "iopub.status.busy": "2022-04-04T15:05:12.074033Z",
     "iopub.status.idle": "2022-04-04T15:05:12.449120Z",
     "shell.execute_reply": "2022-04-04T15:05:12.448285Z",
     "shell.execute_reply.started": "2022-04-04T15:05:12.074557Z"
    }
   },
   "outputs": [],
   "source": [
    "plt.scatter(X[y_balance_pred==0, 0], X[y_balance_pred==0, 1], s=100, c='red', label ='Cluster 1')\n",
    "plt.scatter(X[y_balance_pred==1, 0], X[y_balance_pred==1, 1], s=100, c='blue', label ='Cluster 2')\n",
    "plt.scatter(X[y_balance_pred==2, 0], X[y_balance_pred==2, 1], s=100, c='green', label ='Cluster 3')\n",
    "plt.scatter(X[y_balance_pred==3, 0], X[y_balance_pred==3, 1], s=100, c='yellow', label ='Cluster 4')\n",
    "\n",
    "plt.scatter(km.cluster_centers_[:, 0], km.cluster_centers_[:, 1], s=300, c='cyan', label = 'Centroids')\n",
    "plt.show()"
   ]
  },
  {
   "cell_type": "markdown",
   "metadata": {},
   "source": [
    "# 3.2 DBSCAN :"
   ]
  },
  {
   "cell_type": "markdown",
   "metadata": {},
   "source": [
    "DBSCAN - Density-Based Spatial Clustering of Applications with Noise. Finds core samples of high density and expands clusters from them. Good for data which contains clusters of similar density. K-Means is not capable of creating clusters of arbitary shape. This is were DBSCAN is helpful."
   ]
  },
  {
   "cell_type": "code",
   "execution_count": 87,
   "metadata": {
    "execution": {
     "iopub.execute_input": "2022-04-04T15:05:12.453123Z",
     "iopub.status.busy": "2022-04-04T15:05:12.452613Z",
     "iopub.status.idle": "2022-04-04T15:05:12.456607Z",
     "shell.execute_reply": "2022-04-04T15:05:12.455975Z",
     "shell.execute_reply.started": "2022-04-04T15:05:12.453084Z"
    }
   },
   "outputs": [],
   "source": [
    "from sklearn.cluster import DBSCAN"
   ]
  },
  {
   "cell_type": "code",
   "execution_count": 88,
   "metadata": {
    "execution": {
     "iopub.execute_input": "2022-04-04T15:05:12.458365Z",
     "iopub.status.busy": "2022-04-04T15:05:12.457905Z",
     "iopub.status.idle": "2022-04-04T15:05:13.864805Z",
     "shell.execute_reply": "2022-04-04T15:05:13.863815Z",
     "shell.execute_reply.started": "2022-04-04T15:05:12.458328Z"
    }
   },
   "outputs": [],
   "source": [
    "dbscan = DBSCAN(eps=2,min_samples=6)\n",
    "dbscan.fit(train_df)\n",
    "y_dbscan_pred = dbscan.labels_\n",
    "y_dbscan_pred"
   ]
  },
  {
   "cell_type": "code",
   "execution_count": 89,
   "metadata": {
    "execution": {
     "iopub.execute_input": "2022-04-04T15:05:13.866377Z",
     "iopub.status.busy": "2022-04-04T15:05:13.866081Z",
     "iopub.status.idle": "2022-04-04T15:05:13.893077Z",
     "shell.execute_reply": "2022-04-04T15:05:13.892206Z",
     "shell.execute_reply.started": "2022-04-04T15:05:13.866343Z"
    }
   },
   "outputs": [],
   "source": [
    "dbscan_df = pd.DataFrame(train_df,columns = df.columns)\n",
    "dbscan_df['clusters'] = y_dbscan_pred\n",
    "dbscan_df.head(10)"
   ]
  },
  {
   "cell_type": "code",
   "execution_count": 90,
   "metadata": {
    "execution": {
     "iopub.execute_input": "2022-04-04T15:05:13.895476Z",
     "iopub.status.busy": "2022-04-04T15:05:13.894867Z",
     "iopub.status.idle": "2022-04-04T15:05:13.904333Z",
     "shell.execute_reply": "2022-04-04T15:05:13.903475Z",
     "shell.execute_reply.started": "2022-04-04T15:05:13.895434Z"
    }
   },
   "outputs": [],
   "source": [
    "dbscan_df['clusters'].value_counts()"
   ]
  },
  {
   "cell_type": "code",
   "execution_count": 91,
   "metadata": {
    "execution": {
     "iopub.execute_input": "2022-04-04T15:05:13.906686Z",
     "iopub.status.busy": "2022-04-04T15:05:13.905721Z",
     "iopub.status.idle": "2022-04-04T15:05:13.918497Z",
     "shell.execute_reply": "2022-04-04T15:05:13.917529Z",
     "shell.execute_reply.started": "2022-04-04T15:05:13.906636Z"
    }
   },
   "outputs": [],
   "source": [
    "X = dbscan_df[['BALANCE','PURCHASES']].to_numpy()"
   ]
  },
  {
   "cell_type": "code",
   "execution_count": 92,
   "metadata": {
    "execution": {
     "iopub.execute_input": "2022-04-04T15:05:13.920326Z",
     "iopub.status.busy": "2022-04-04T15:05:13.919694Z",
     "iopub.status.idle": "2022-04-04T15:05:13.984231Z",
     "shell.execute_reply": "2022-04-04T15:05:13.983407Z",
     "shell.execute_reply.started": "2022-04-04T15:05:13.920290Z"
    }
   },
   "outputs": [],
   "source": [
    "dbscan = DBSCAN(eps=0.075,min_samples=2)\n",
    "dbscan.fit(X)\n",
    "y_dbscan_pred = dbscan.labels_\n",
    "y_dbscan_pred"
   ]
  },
  {
   "cell_type": "code",
   "execution_count": 93,
   "metadata": {
    "execution": {
     "iopub.execute_input": "2022-04-04T15:05:13.985585Z",
     "iopub.status.busy": "2022-04-04T15:05:13.985219Z",
     "iopub.status.idle": "2022-04-04T15:05:13.993302Z",
     "shell.execute_reply": "2022-04-04T15:05:13.992381Z",
     "shell.execute_reply.started": "2022-04-04T15:05:13.985540Z"
    }
   },
   "outputs": [],
   "source": [
    "dbscan_df['clusters'] = y_dbscan_pred\n",
    "dbscan_df['clusters'].value_counts()"
   ]
  },
  {
   "cell_type": "code",
   "execution_count": 94,
   "metadata": {
    "execution": {
     "iopub.execute_input": "2022-04-04T15:05:13.997119Z",
     "iopub.status.busy": "2022-04-04T15:05:13.996858Z",
     "iopub.status.idle": "2022-04-04T15:05:14.451027Z",
     "shell.execute_reply": "2022-04-04T15:05:14.450209Z",
     "shell.execute_reply.started": "2022-04-04T15:05:13.997089Z"
    }
   },
   "outputs": [],
   "source": [
    "plt.figure(figsize=(10,10))\n",
    "plt.scatter(dbscan_df['BALANCE'],dbscan_df['PURCHASES'],c=dbscan_df['clusters'])\n",
    "plt.title('DBSCAN Clustering',fontsize=20)\n",
    "plt.xlabel('Feature 1',fontsize=14)\n",
    "plt.ylabel('Feature 2',fontsize=14)\n",
    "plt.show()"
   ]
  },
  {
   "cell_type": "code",
   "execution_count": 95,
   "metadata": {
    "execution": {
     "iopub.execute_input": "2022-04-04T15:05:14.452489Z",
     "iopub.status.busy": "2022-04-04T15:05:14.452238Z",
     "iopub.status.idle": "2022-04-04T15:05:14.486941Z",
     "shell.execute_reply": "2022-04-04T15:05:14.486116Z",
     "shell.execute_reply.started": "2022-04-04T15:05:14.452458Z"
    }
   },
   "outputs": [],
   "source": [
    "import numpy as np\n",
    "import pandas as pd\n",
    "import matplotlib.pyplot as plt\n",
    "import seaborn as sns\n",
    "import warnings\n",
    "warnings.simplefilter(action='ignore', category=FutureWarning)\n",
    "\n",
    "from sklearn.preprocessing import StandardScaler\n",
    "from scipy import stats\n",
    "from scipy.spatial import distance\n",
    "from scipy.cluster.hierarchy import linkage, dendrogram, fcluster\n",
    "from sklearn.cluster import AgglomerativeClustering\n",
    "\n",
    "df = pd.read_csv('CC GENERAL.csv')\n",
    "df = df.drop(['CUST_ID'], axis=1)\n",
    "df.isnull().sum().sort_values(ascending=False).head()"
   ]
  },
  {
   "cell_type": "code",
   "execution_count": 96,
   "metadata": {
    "execution": {
     "iopub.execute_input": "2022-04-04T15:05:14.489735Z",
     "iopub.status.busy": "2022-04-04T15:05:14.489169Z",
     "iopub.status.idle": "2022-04-04T15:05:14.497896Z",
     "shell.execute_reply": "2022-04-04T15:05:14.497267Z",
     "shell.execute_reply.started": "2022-04-04T15:05:14.489701Z"
    }
   },
   "outputs": [],
   "source": [
    "df.loc[(df['MINIMUM_PAYMENTS'].isnull()==True),'MINIMUM_PAYMENTS'] = df['MINIMUM_PAYMENTS'].mean()\n",
    "df.loc[(df['CREDIT_LIMIT'].isnull()==True),'CREDIT_LIMIT'] = df['CREDIT_LIMIT'].mean()"
   ]
  },
  {
   "cell_type": "code",
   "execution_count": 97,
   "metadata": {
    "execution": {
     "iopub.execute_input": "2022-04-04T15:05:14.499810Z",
     "iopub.status.busy": "2022-04-04T15:05:14.499370Z",
     "iopub.status.idle": "2022-04-04T15:05:14.511999Z",
     "shell.execute_reply": "2022-04-04T15:05:14.511167Z",
     "shell.execute_reply.started": "2022-04-04T15:05:14.499779Z"
    }
   },
   "outputs": [],
   "source": [
    "df.isnull().sum().sort_values(ascending=False).head()"
   ]
  },
  {
   "cell_type": "code",
   "execution_count": 98,
   "metadata": {
    "execution": {
     "iopub.execute_input": "2022-04-04T15:05:14.513883Z",
     "iopub.status.busy": "2022-04-04T15:05:14.513330Z",
     "iopub.status.idle": "2022-04-04T15:05:15.131154Z",
     "shell.execute_reply": "2022-04-04T15:05:15.130285Z",
     "shell.execute_reply.started": "2022-04-04T15:05:14.513849Z"
    }
   },
   "outputs": [],
   "source": [
    "sns.set(style = \"white\")\n",
    "cor_matrix = df.corr()\n",
    "\n",
    "mask = np.triu(np.ones_like(cor_matrix, dtype = np.bool))\n",
    "\n",
    "plt.figure(figsize = (15, 12))\n",
    "\n",
    "cmap = sns.diverging_palette(220, 10, as_cmap = True)\n",
    "\n",
    "sns.heatmap(cor_matrix, mask = mask, cmap = cmap, center = 0,\n",
    "            square = True, linewidths = .5, cbar_kws = {\"shrink\": .5})"
   ]
  },
  {
   "cell_type": "code",
   "execution_count": 99,
   "metadata": {
    "execution": {
     "iopub.execute_input": "2022-04-04T15:06:59.194123Z",
     "iopub.status.busy": "2022-04-04T15:06:59.193812Z",
     "iopub.status.idle": "2022-04-04T15:06:59.219483Z",
     "shell.execute_reply": "2022-04-04T15:06:59.218715Z",
     "shell.execute_reply.started": "2022-04-04T15:06:59.194087Z"
    }
   },
   "outputs": [],
   "source": [
    "cols =  ['BALANCE',\n",
    "         'PURCHASES',\n",
    "         'ONEOFF_PURCHASES',\n",
    "         'INSTALLMENTS_PURCHASES',\n",
    "         'CASH_ADVANCE',\n",
    "         'CASH_ADVANCE_TRX',\n",
    "         'PURCHASES_TRX',\n",
    "         'CREDIT_LIMIT',\n",
    "         'PAYMENTS',\n",
    "         'MINIMUM_PAYMENTS',\n",
    "        ]\n",
    "\n",
    "df[cols] = np.log(1 + df[cols])\n",
    "\n",
    "df.head()"
   ]
  },
  {
   "cell_type": "code",
   "execution_count": 100,
   "metadata": {
    "execution": {
     "iopub.execute_input": "2022-04-04T15:08:28.972537Z",
     "iopub.status.busy": "2022-04-04T15:08:28.972244Z",
     "iopub.status.idle": "2022-04-04T15:08:29.040618Z",
     "shell.execute_reply": "2022-04-04T15:08:29.039745Z",
     "shell.execute_reply.started": "2022-04-04T15:08:28.972508Z"
    }
   },
   "outputs": [],
   "source": [
    "scaler = StandardScaler() \n",
    "scaled_df = scaler.fit_transform(df)\n",
    "\n",
    "scaled_df = pd.DataFrame(scaled_df, index = df.index, columns = df.columns) \n",
    "\n",
    "scaled_df.describe()"
   ]
  },
  {
   "cell_type": "markdown",
   "metadata": {},
   "source": [
    "## **Agglomerative Clustering**"
   ]
  },
  {
   "cell_type": "code",
   "execution_count": 101,
   "metadata": {
    "execution": {
     "iopub.execute_input": "2022-04-04T15:09:21.336197Z",
     "iopub.status.busy": "2022-04-04T15:09:21.335927Z",
     "iopub.status.idle": "2022-04-04T15:09:27.922153Z",
     "shell.execute_reply": "2022-04-04T15:09:27.921332Z",
     "shell.execute_reply.started": "2022-04-04T15:09:21.336156Z"
    }
   },
   "outputs": [],
   "source": [
    "cov = scaled_df.cov()\n",
    "cov_inv = pd.DataFrame(np.linalg.inv(cov.values), cov.columns, cov.index)\n",
    "\n",
    "dist = distance.pdist(scaled_df, 'mahalanobis', VI = cov_inv)\n",
    "dist_mat = distance.squareform(dist)\n",
    "dist_mat.shape"
   ]
  },
  {
   "cell_type": "code",
   "execution_count": 102,
   "metadata": {
    "execution": {
     "iopub.execute_input": "2022-04-04T15:09:39.930452Z",
     "iopub.status.busy": "2022-04-04T15:09:39.930136Z",
     "iopub.status.idle": "2022-04-04T15:09:39.935304Z",
     "shell.execute_reply": "2022-04-04T15:09:39.934483Z",
     "shell.execute_reply.started": "2022-04-04T15:09:39.930417Z"
    }
   },
   "outputs": [],
   "source": [
    "def clustering_linkage(dist, link):\n",
    "    hier = linkage(dist, link)\n",
    "    hier = np.around(hier, decimals = 2)\n",
    "    fig = plt.figure(figsize=(25, 10))\n",
    "    dn = dendrogram(hier, p = 30, truncate_mode = 'lastp')\n",
    "    plt.show()\n",
    "    return hier"
   ]
  },
  {
   "cell_type": "code",
   "execution_count": 103,
   "metadata": {
    "execution": {
     "iopub.execute_input": "2022-04-04T15:09:48.148884Z",
     "iopub.status.busy": "2022-04-04T15:09:48.148230Z",
     "iopub.status.idle": "2022-04-04T15:09:48.155058Z",
     "shell.execute_reply": "2022-04-04T15:09:48.154145Z",
     "shell.execute_reply.started": "2022-04-04T15:09:48.148823Z"
    }
   },
   "outputs": [],
   "source": [
    "def get_distances(hier):\n",
    "    distances = hier[-20:,2]\n",
    "    num_clus = np.arange(20, 0, -1)\n",
    "    \n",
    "\n",
    "    d = {'Number of Clusters': num_clus, 'Distance between merged Clusters': distances}\n",
    "    df_dist = pd.DataFrame(d)\n",
    "\n",
    "    plt.figure(figsize=(15, 8))\n",
    "    sns.barplot(x = \"Number of Clusters\", y = \"Distance between merged Clusters\", data = df_dist)"
   ]
  },
  {
   "cell_type": "markdown",
   "metadata": {},
   "source": [
    "## Complete linkage"
   ]
  },
  {
   "cell_type": "code",
   "execution_count": 105,
   "metadata": {
    "execution": {
     "iopub.execute_input": "2022-04-04T15:10:35.027318Z",
     "iopub.status.busy": "2022-04-04T15:10:35.026787Z",
     "iopub.status.idle": "2022-04-04T15:10:38.962024Z",
     "shell.execute_reply": "2022-04-04T15:10:38.961340Z",
     "shell.execute_reply.started": "2022-04-04T15:10:35.027268Z"
    }
   },
   "outputs": [],
   "source": [
    "hier_com = clustering_linkage(dist, 'complete')\n",
    "print(\"This is what the linkage algorithm returns:\")\n",
    "hier_com\n",
    "get_distances(hier_com)"
   ]
  },
  {
   "cell_type": "markdown",
   "metadata": {},
   "source": [
    "## Single linkage"
   ]
  },
  {
   "cell_type": "code",
   "execution_count": 106,
   "metadata": {
    "execution": {
     "iopub.execute_input": "2022-04-04T15:11:08.737939Z",
     "iopub.status.busy": "2022-04-04T15:11:08.737409Z",
     "iopub.status.idle": "2022-04-04T15:11:10.322762Z",
     "shell.execute_reply": "2022-04-04T15:11:10.322130Z",
     "shell.execute_reply.started": "2022-04-04T15:11:08.737892Z"
    }
   },
   "outputs": [],
   "source": [
    "hier_sin = clustering_linkage(dist, 'single')\n",
    "get_distances(hier_sin)"
   ]
  },
  {
   "cell_type": "code",
   "execution_count": null,
   "metadata": {},
   "outputs": [],
   "source": []
  }
 ],
 "metadata": {
  "kernelspec": {
   "display_name": "Python 3",
   "language": "python",
   "name": "python3"
  },
  "language_info": {
   "codemirror_mode": {
    "name": "ipython",
    "version": 3
   },
   "file_extension": ".py",
   "mimetype": "text/x-python",
   "name": "python",
   "nbconvert_exporter": "python",
   "pygments_lexer": "ipython3",
   "version": "3.7.3"
  }
 },
 "nbformat": 4,
 "nbformat_minor": 4
}
