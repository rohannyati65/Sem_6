{
 "cells": [
  {
   "cell_type": "code",
   "execution_count": 1,
   "metadata": {},
   "outputs": [],
   "source": [
    "import numpy as np\n",
    "import pandas as pd"
   ]
  },
  {
   "cell_type": "code",
   "execution_count": 3,
   "metadata": {},
   "outputs": [],
   "source": [
    "tweets_df = pd.read_csv('Corona_NLP_train.csv', encoding='latin-1')\n",
    "tweets_df = tweets_df[['OriginalTweet', 'Sentiment']]\n",
    "\n",
    "test_df = pd.read_csv('Corona_NLP_test.csv')\n",
    "test_df = test_df[['OriginalTweet', 'Sentiment']]"
   ]
  },
  {
   "cell_type": "code",
   "execution_count": 5,
   "metadata": {},
   "outputs": [
    {
     "data": {
      "text/html": [
       "<div>\n",
       "<style scoped>\n",
       "    .dataframe tbody tr th:only-of-type {\n",
       "        vertical-align: middle;\n",
       "    }\n",
       "\n",
       "    .dataframe tbody tr th {\n",
       "        vertical-align: top;\n",
       "    }\n",
       "\n",
       "    .dataframe thead th {\n",
       "        text-align: right;\n",
       "    }\n",
       "</style>\n",
       "<table border=\"1\" class=\"dataframe\">\n",
       "  <thead>\n",
       "    <tr style=\"text-align: right;\">\n",
       "      <th></th>\n",
       "      <th>OriginalTweet</th>\n",
       "      <th>Sentiment</th>\n",
       "    </tr>\n",
       "  </thead>\n",
       "  <tbody>\n",
       "    <tr>\n",
       "      <th>0</th>\n",
       "      <td>TRENDING: New Yorkers encounter empty supermar...</td>\n",
       "      <td>Extremely Negative</td>\n",
       "    </tr>\n",
       "    <tr>\n",
       "      <th>1</th>\n",
       "      <td>When I couldn't find hand sanitizer at Fred Me...</td>\n",
       "      <td>Positive</td>\n",
       "    </tr>\n",
       "    <tr>\n",
       "      <th>2</th>\n",
       "      <td>Find out how you can protect yourself and love...</td>\n",
       "      <td>Extremely Positive</td>\n",
       "    </tr>\n",
       "    <tr>\n",
       "      <th>3</th>\n",
       "      <td>#Panic buying hits #NewYork City as anxious sh...</td>\n",
       "      <td>Negative</td>\n",
       "    </tr>\n",
       "    <tr>\n",
       "      <th>4</th>\n",
       "      <td>#toiletpaper #dunnypaper #coronavirus #coronav...</td>\n",
       "      <td>Neutral</td>\n",
       "    </tr>\n",
       "  </tbody>\n",
       "</table>\n",
       "</div>"
      ],
      "text/plain": [
       "                                       OriginalTweet           Sentiment\n",
       "0  TRENDING: New Yorkers encounter empty supermar...  Extremely Negative\n",
       "1  When I couldn't find hand sanitizer at Fred Me...            Positive\n",
       "2  Find out how you can protect yourself and love...  Extremely Positive\n",
       "3  #Panic buying hits #NewYork City as anxious sh...            Negative\n",
       "4  #toiletpaper #dunnypaper #coronavirus #coronav...             Neutral"
      ]
     },
     "execution_count": 5,
     "metadata": {},
     "output_type": "execute_result"
    }
   ],
   "source": [
    "test_df.head()"
   ]
  },
  {
   "cell_type": "code",
   "execution_count": 6,
   "metadata": {},
   "outputs": [
    {
     "name": "stdout",
     "output_type": "stream",
     "text": [
      "False    41157\n",
      "Name: OriginalTweet, dtype: int64\n",
      "False    41157\n",
      "Name: Sentiment, dtype: int64\n",
      "\n",
      "False    3798\n",
      "Name: OriginalTweet, dtype: int64\n",
      "False    3798\n",
      "Name: Sentiment, dtype: int64\n"
     ]
    }
   ],
   "source": [
    "# Check for null values\n",
    "for column in tweets_df.columns:\n",
    "    print(tweets_df[column].isnull().value_counts())\n",
    "print()  \n",
    "for column in test_df.columns:\n",
    "    print(test_df[column].isnull().value_counts())"
   ]
  },
  {
   "cell_type": "code",
   "execution_count": 7,
   "metadata": {},
   "outputs": [
    {
     "name": "stdout",
     "output_type": "stream",
     "text": [
      "False    41157\n",
      "dtype: int64\n",
      "\n",
      "False    3798\n",
      "dtype: int64\n"
     ]
    }
   ],
   "source": [
    "# Check for duplicate values\n",
    "print(tweets_df.duplicated().value_counts())\n",
    "print()\n",
    "print(test_df.duplicated().value_counts())"
   ]
  },
  {
   "cell_type": "code",
   "execution_count": 8,
   "metadata": {},
   "outputs": [
    {
     "name": "stderr",
     "output_type": "stream",
     "text": [
      "[nltk_data] Downloading package stopwords to\n",
      "[nltk_data]     C:\\Users\\Rohan\\AppData\\Roaming\\nltk_data...\n",
      "[nltk_data]   Unzipping corpora\\stopwords.zip.\n"
     ]
    }
   ],
   "source": [
    "import nltk\n",
    "from nltk.corpus import stopwords\n",
    "#from nltk.stem import PorterStemmer\n",
    "from nltk.stem import WordNetLemmatizer\n",
    "from nltk.tokenize import word_tokenize\n",
    "import string\n",
    "\n",
    "nltk.download('stopwords')\n",
    "#ps = PorterStemmer()\n",
    "lemmatizer = WordNetLemmatizer()"
   ]
  },
  {
   "cell_type": "code",
   "execution_count": 9,
   "metadata": {},
   "outputs": [
    {
     "name": "stdout",
     "output_type": "stream",
     "text": [
      "Collecting pyspellchecker\n",
      "  Downloading https://files.pythonhosted.org/packages/b4/e3/64a6a11f885d2f95a680e5d7bfa6aee3e3eb5f7671ff5bba0a80cd890fb3/pyspellchecker-0.6.3-py3-none-any.whl (2.7MB)\n",
      "Installing collected packages: pyspellchecker\n",
      "Successfully installed pyspellchecker-0.6.3\n"
     ]
    }
   ],
   "source": [
    "!pip install pyspellchecker \n",
    "from spellchecker import SpellChecker\n",
    "spell = SpellChecker()"
   ]
  },
  {
   "cell_type": "code",
   "execution_count": 10,
   "metadata": {},
   "outputs": [
    {
     "data": {
      "text/plain": [
       "'!\"$%&\\'()*+,-./:;<=>?[\\\\]^_`{|}~'"
      ]
     },
     "execution_count": 10,
     "metadata": {},
     "output_type": "execute_result"
    }
   ],
   "source": [
    "puncs_ = string.punctuation.replace('@','')\n",
    "puncs = puncs_.replace('#','')\n",
    "puncs"
   ]
  },
  {
   "cell_type": "code",
   "execution_count": 11,
   "metadata": {},
   "outputs": [
    {
     "data": {
      "text/plain": [
       "'      @ the springs theatre httpstcoaertookvav'"
      ]
     },
     "execution_count": 11,
     "metadata": {},
     "output_type": "execute_result"
    }
   ],
   "source": [
    "s = '           @ the springs theatre httpstcoaertookvav'\n",
    "mytext = \" \".join(s.split(\"  \"))\n",
    "mytext"
   ]
  },
  {
   "cell_type": "code",
   "execution_count": 12,
   "metadata": {},
   "outputs": [],
   "source": [
    "def textClean(text):\n",
    "    # convert to lowercase\n",
    "    lower = [char.lower() for char in text if char not in puncs]\n",
    "    lower = ''.join(lower)\n",
    "    lower = ' '.join(lower.split())\n",
    "    \n",
    "    # delete @mentions and #tags\n",
    "    for char in lower:\n",
    "        if lower.find('@')==-1 and lower.find('#')==-1: # break loop once @ and # is over\n",
    "            break\n",
    "        if (char=='@' or char=='#'):\n",
    "            try:\n",
    "                char_index = lower.index(char)\n",
    "            except ValueError:\n",
    "                #print(lower)\n",
    "                break\n",
    "            del_word = ''\n",
    "            while char not in string.whitespace:\n",
    "                del_word = del_word+lower[char_index]\n",
    "                char_index = char_index + 1\n",
    "                try:\n",
    "                    char = lower[char_index] #trying for indexerror incase it is the last character of string\n",
    "                except IndexError:\n",
    "                    char = ' '\n",
    "                except:\n",
    "                    print(\"Something else went wrong\")\n",
    "            lower = lower.replace(del_word,'',1)\n",
    "    lower = [char for char in lower if char not in string.punctuation and char not in string.digits]\n",
    "    lower = ''.join(lower)\n",
    "    \n",
    "    tokens = word_tokenize(lower)\n",
    "    nohttp = [word for word in tokens if word[0:4]!='http']\n",
    "    nostop = [word for word in nohttp if word not in stopwords.words('english')]\n",
    "    return nostop"
   ]
  },
  {
   "cell_type": "code",
   "execution_count": 17,
   "metadata": {},
   "outputs": [
    {
     "data": {
      "text/plain": [
       "(41157, 39097)"
      ]
     },
     "execution_count": 17,
     "metadata": {},
     "output_type": "execute_result"
    }
   ],
   "source": [
    "from sklearn.feature_extraction.text import CountVectorizer\n",
    "vectorizer = CountVectorizer(analyzer=textClean)\n",
    "message = vectorizer.fit_transform(tweets_df['OriginalTweet'])\n",
    "message.shape"
   ]
  },
  {
   "cell_type": "code",
   "execution_count": 16,
   "metadata": {},
   "outputs": [
    {
     "name": "stderr",
     "output_type": "stream",
     "text": [
      "[nltk_data] Downloading package punkt to\n",
      "[nltk_data]     C:\\Users\\Rohan\\AppData\\Roaming\\nltk_data...\n",
      "[nltk_data]   Unzipping tokenizers\\punkt.zip.\n"
     ]
    },
    {
     "data": {
      "text/plain": [
       "True"
      ]
     },
     "execution_count": 16,
     "metadata": {},
     "output_type": "execute_result"
    }
   ],
   "source": [
    "import nltk\n",
    "nltk.download('punkt')"
   ]
  },
  {
   "cell_type": "code",
   "execution_count": 19,
   "metadata": {},
   "outputs": [],
   "source": [
    "from sklearn.model_selection import train_test_split\n",
    "xtrain, xtest, ytrain, ytest = train_test_split(message,tweets_df.Sentiment,test_size=0.20,random_state=0)\n",
    "from sklearn.naive_bayes import MultinomialNB\n",
    "classifier = MultinomialNB().fit(xtrain, ytrain)"
   ]
  },
  {
   "cell_type": "code",
   "execution_count": 20,
   "metadata": {},
   "outputs": [
    {
     "name": "stdout",
     "output_type": "stream",
     "text": [
      "                    precision    recall  f1-score   support\n",
      "\n",
      "Extremely Negative       0.88      0.66      0.76      4387\n",
      "Extremely Positive       0.83      0.72      0.77      5293\n",
      "          Negative       0.70      0.78      0.74      7931\n",
      "           Neutral       0.93      0.55      0.69      6187\n",
      "          Positive       0.63      0.87      0.73      9127\n",
      "\n",
      "          accuracy                           0.73     32925\n",
      "         macro avg       0.79      0.71      0.74     32925\n",
      "      weighted avg       0.77      0.73      0.73     32925\n",
      "\n",
      "\n",
      "Confusion Matrix: \n",
      " [[2909   32 1033   36  377]\n",
      " [  21 3791  166   20 1295]\n",
      " [ 257  152 6180  110 1232]\n",
      " [  59  139  887 3372 1730]\n",
      " [  64  477  575   99 7912]]\n",
      "Accuracy: \n",
      " 0.7339104024297646\n"
     ]
    }
   ],
   "source": [
    "from sklearn.metrics import classification_report, confusion_matrix, accuracy_score\n",
    "pred = classifier.predict(xtrain)\n",
    "print(classification_report(ytrain, pred))\n",
    "print()\n",
    "print(\"Confusion Matrix: \\n\", confusion_matrix(ytrain, pred))\n",
    "print(\"Accuracy: \\n\", accuracy_score(ytrain, pred))"
   ]
  },
  {
   "cell_type": "code",
   "execution_count": 21,
   "metadata": {},
   "outputs": [
    {
     "name": "stdout",
     "output_type": "stream",
     "text": [
      "                    precision    recall  f1-score   support\n",
      "\n",
      "Extremely Negative       0.59      0.39      0.47      1094\n",
      "Extremely Positive       0.56      0.44      0.49      1331\n",
      "          Negative       0.44      0.50      0.47      1986\n",
      "           Neutral       0.67      0.34      0.45      1526\n",
      "          Positive       0.41      0.61      0.49      2295\n",
      "\n",
      "          accuracy                           0.48      8232\n",
      "         macro avg       0.53      0.46      0.47      8232\n",
      "      weighted avg       0.51      0.48      0.47      8232\n",
      "\n",
      "\n",
      "Confusion Matrix: \n",
      " [[ 422    8  511   26  127]\n",
      " [   7  589   78   23  634]\n",
      " [ 209   72 1000   81  624]\n",
      " [  30   44  313  518  621]\n",
      " [  48  336  395  123 1393]]\n",
      "Accuracy: \n",
      " 0.47643343051506315\n"
     ]
    }
   ],
   "source": [
    "from sklearn.metrics import classification_report, confusion_matrix, accuracy_score\n",
    "pred = classifier.predict(xtest)\n",
    "print(classification_report(ytest, pred))\n",
    "print()\n",
    "print(\"Confusion Matrix: \\n\", confusion_matrix(ytest, pred))\n",
    "print(\"Accuracy: \\n\", accuracy_score(ytest, pred))"
   ]
  },
  {
   "cell_type": "code",
   "execution_count": 22,
   "metadata": {},
   "outputs": [
    {
     "data": {
      "text/plain": [
       "(3798, 2)"
      ]
     },
     "execution_count": 22,
     "metadata": {},
     "output_type": "execute_result"
    }
   ],
   "source": [
    "test_df.shape"
   ]
  },
  {
   "cell_type": "code",
   "execution_count": 23,
   "metadata": {},
   "outputs": [
    {
     "data": {
      "text/plain": [
       "(3798, 39097)"
      ]
     },
     "execution_count": 23,
     "metadata": {},
     "output_type": "execute_result"
    }
   ],
   "source": [
    "message2 = vectorizer.transform(test_df['OriginalTweet'])\n",
    "message2.shape"
   ]
  },
  {
   "cell_type": "code",
   "execution_count": 24,
   "metadata": {},
   "outputs": [
    {
     "data": {
      "text/plain": [
       "<3798x39097 sparse matrix of type '<class 'numpy.int64'>'\n",
       "\twith 58205 stored elements in Compressed Sparse Row format>"
      ]
     },
     "execution_count": 24,
     "metadata": {},
     "output_type": "execute_result"
    }
   ],
   "source": [
    "message2"
   ]
  },
  {
   "cell_type": "code",
   "execution_count": 25,
   "metadata": {},
   "outputs": [
    {
     "name": "stdout",
     "output_type": "stream",
     "text": [
      "                    precision    recall  f1-score   support\n",
      "\n",
      "Extremely Negative       0.59      0.30      0.39       592\n",
      "Extremely Positive       0.63      0.35      0.45       599\n",
      "          Negative       0.44      0.51      0.47      1041\n",
      "           Neutral       0.66      0.21      0.31       619\n",
      "          Positive       0.37      0.69      0.48       947\n",
      "\n",
      "          accuracy                           0.45      3798\n",
      "         macro avg       0.54      0.41      0.42      3798\n",
      "      weighted avg       0.51      0.45      0.43      3798\n",
      "\n",
      "\n",
      "Confusion Matrix: \n",
      " [[175   5 328   4  80]\n",
      " [  5 211  34   2 347]\n",
      " [ 83  21 529  38 370]\n",
      " [  9  15 158 127 310]\n",
      " [ 26  84 164  21 652]]\n",
      "Accuracy: \n",
      " 0.4460242232754081\n"
     ]
    }
   ],
   "source": [
    "pred = classifier.predict(message2)\n",
    "print(classification_report(test_df.Sentiment, pred))\n",
    "print()\n",
    "print(\"Confusion Matrix: \\n\", confusion_matrix(test_df.Sentiment, pred))\n",
    "print(\"Accuracy: \\n\", accuracy_score(test_df.Sentiment, pred))"
   ]
  },
  {
   "cell_type": "code",
   "execution_count": null,
   "metadata": {},
   "outputs": [],
   "source": []
  }
 ],
 "metadata": {
  "kernelspec": {
   "display_name": "Python 3",
   "language": "python",
   "name": "python3"
  },
  "language_info": {
   "codemirror_mode": {
    "name": "ipython",
    "version": 3
   },
   "file_extension": ".py",
   "mimetype": "text/x-python",
   "name": "python",
   "nbconvert_exporter": "python",
   "pygments_lexer": "ipython3",
   "version": "3.7.3"
  }
 },
 "nbformat": 4,
 "nbformat_minor": 2
}
